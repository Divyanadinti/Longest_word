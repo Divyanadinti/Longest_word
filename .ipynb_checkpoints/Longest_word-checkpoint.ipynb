{
 "cells": [
  {
   "cell_type": "markdown",
   "id": "b2b8b798",
   "metadata": {},
   "source": [
    "# Have the function LongestWord(sen) take the sen parameter being passed and return the longest word in the string. If there are two or more words that are the same length, return the first word from the string with that length. Ignore punctuation and assume sen will not be empty. Words may also contain numbers, for example \"Hello world123 567\""
   ]
  },
  {
   "cell_type": "code",
   "execution_count": 1,
   "id": "f645df60",
   "metadata": {},
   "outputs": [
    {
     "name": "stdout",
     "output_type": "stream",
     "text": [
      "world123\n",
      "quick\n"
     ]
    }
   ],
   "source": [
    "import re\n",
    "\n",
    "def LongestWord(sen):\n",
    "    # Remove punctuation using regex, allowing only alphanumeric characters and spaces\n",
    "    cleaned_sentence = re.sub(r'[^a-zA-Z0-9 ]', '', sen)\n",
    "    \n",
    "    # Split the cleaned string into words\n",
    "    words = cleaned_sentence.split()\n",
    "    \n",
    "    # Find the longest word\n",
    "    longest_word = max(words, key=len)\n",
    "    \n",
    "    return longest_word\n",
    "\n",
    "# Example usage\n",
    "print(LongestWord(\"Hello world123 567\")) \n",
    "print(LongestWord(\"The quick brown fox jumps! over, the lazy dog.\"))"
   ]
  },
  {
   "cell_type": "code",
   "execution_count": null,
   "id": "23ab9479",
   "metadata": {},
   "outputs": [],
   "source": []
  }
 ],
 "metadata": {
  "kernelspec": {
   "display_name": "Python 3 (ipykernel)",
   "language": "python",
   "name": "python3"
  },
  "language_info": {
   "codemirror_mode": {
    "name": "ipython",
    "version": 3
   },
   "file_extension": ".py",
   "mimetype": "text/x-python",
   "name": "python",
   "nbconvert_exporter": "python",
   "pygments_lexer": "ipython3",
   "version": "3.10.9"
  }
 },
 "nbformat": 4,
 "nbformat_minor": 5
}
